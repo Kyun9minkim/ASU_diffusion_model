{
 "cells": [
  {
   "cell_type": "markdown",
   "id": "d9a82bc7-5a1c-44d0-ac8a-3018360db260",
   "metadata": {},
   "source": [
    "# A 1D diffusion model\n",
    "\n"
   ]
  },
  {
   "cell_type": "markdown",
   "id": "108c87e5-51c3-4304-8a8b-c65ace83db28",
   "metadata": {},
   "source": [
    "Here we develope a one dimensional model of diffusion. it assumes a constant diffusivity. it uses a regular grid. it has a step function for an initial condition. it has fixed boundary\n",
    "condition.    here we develope a one dimensional model of diffusion. it assumes a constant diffusivity. it uses a regular grid. it has a step function for an initial condition. it has fixed boundary condition.\n"
   ]
  },
  {
   "cell_type": "markdown",
   "id": "fa643161-57bd-4c7c-97c6-be2c1ee76e0b",
   "metadata": {},
   "source": [
    "here is the diffusion equation.\n"
   ]
  },
  {
   "cell_type": "markdown",
   "id": "05ff5d72-c17b-48a3-9ea1-5224d84bbbf1",
   "metadata": {},
   "source": [
    "$$ \\frac{\\partial C}{\\partial t} = D\\frac{\\partial^2 C}{\\partial x^2} $$\n",
    "\n"
   ]
  },
  {
   "cell_type": "markdown",
   "id": "a8068e61-bc27-4322-a593-17f722143786",
   "metadata": {},
   "source": [
    "Here is the discretized version of the diffusion equation we will solve with our model:"
   ]
  },
  {
   "cell_type": "markdown",
   "id": "8d929aa6-3039-4353-8ecb-d63b8ab927bb",
   "metadata": {},
   "source": [
    "$$ C^{t+1}_x = C^t_x + {D \\Delta t \\over \\Delta x^2}\n",
    "(C^t_{x+1} - 2C^t_x + C^t_{\n",
    "    x-1}) $$"
   ]
  },
  {
   "cell_type": "markdown",
   "id": "25e67dc3-1794-41cb-bf64-ccdc96f1826d",
   "metadata": {},
   "source": [
    "This is the FTCS scheme as described by Slingerland and kump (2011)"
   ]
  },
  {
   "cell_type": "markdown",
   "id": "ec8e5f3c-4a77-4e46-91fa-97728073118f",
   "metadata": {},
   "source": [
    "we'll use two libraries, NumPy (for arrays) and Matplotlib (for plotting), that aren't a part of the core python distribution."
   ]
  },
  {
   "cell_type": "code",
   "execution_count": null,
   "id": "991e81e1-d00b-4cdc-b23d-6ac9bbf6600c",
   "metadata": {},
   "outputs": [],
   "source": [
    "import numpy as np\n",
    "import matplotlib.pyplot as plt "
   ]
  },
  {
   "cell_type": "markdown",
   "id": "bf0fde68-c1fe-42de-8d4a-fc9dfc6f041b",
   "metadata": {},
   "source": [
    "Start by setting two fixed model parameters, the diffusivity and the size of the model domain. "
   ]
  },
  {
   "cell_type": "code",
   "execution_count": null,
   "id": "c1be4062-e1ea-489a-bc5a-933b80a4aafb",
   "metadata": {},
   "outputs": [],
   "source": [
    "D = 100\n",
    "Lx = 300"
   ]
  },
  {
   "cell_type": "markdown",
   "id": "f3571e7f-4e5c-480e-b29e-e7394d536b86",
   "metadata": {},
   "source": [
    "Next, set up the model grid using a NumPy array."
   ]
  },
  {
   "cell_type": "code",
   "execution_count": null,
   "id": "10aa61c7-3215-44fe-8436-6e5e9e4bb407",
   "metadata": {},
   "outputs": [],
   "source": [
    "dx = 0.5\n",
    "x = np.arange(start=0, stop=Lx, step=dx)\n",
    "nx = len(x)"
   ]
  },
  {
   "cell_type": "code",
   "execution_count": null,
   "id": "4f01389a-270b-4ed8-a16f-85e639eafd51",
   "metadata": {},
   "outputs": [],
   "source": [
    "nx"
   ]
  },
  {
   "cell_type": "code",
   "execution_count": null,
   "id": "fba615c8-6b7b-4e84-8949-c5dfa9086446",
   "metadata": {},
   "outputs": [],
   "source": [
    "x[0:5]"
   ]
  },
  {
   "cell_type": "code",
   "execution_count": null,
   "id": "bbc076e9-1141-4552-b63b-d4d26f14fb1f",
   "metadata": {},
   "outputs": [],
   "source": [
    "x[-5:-1]"
   ]
  },
  {
   "cell_type": "code",
   "execution_count": null,
   "id": "9b5e80ba-fc78-4219-b114-fec89c2d72b2",
   "metadata": {},
   "outputs": [],
   "source": [
    "x[-5:]"
   ]
  },
  {
   "cell_type": "markdown",
   "id": "4747b972-ca1a-4258-80dc-3bd6195f83a6",
   "metadata": {},
   "source": [
    "Set the initial conditions for the model.\n",
    "The cake `C` is a step function with a high value of the left, a low value on the right, and a step at the center fo the demain."
   ]
  },
  {
   "cell_type": "code",
   "execution_count": null,
   "id": "d6312e74-c4a1-47bc-bc45-47259c110468",
   "metadata": {},
   "outputs": [],
   "source": [
    "C = np.zeros_like(x)\n",
    "C_left = 500\n",
    "C_right = 0\n",
    "C[x<=Lx/2]=C_left\n",
    "C[x>Lx/2]=C_right"
   ]
  },
  {
   "cell_type": "markdown",
   "id": "bc9de77a-1d4d-499f-a335-8df7fddc0240",
   "metadata": {},
   "source": [
    "Plot the initial profile."
   ]
  },
  {
   "cell_type": "code",
   "execution_count": null,
   "id": "89144147-15b5-4801-8f3c-a7cf6ea90f4c",
   "metadata": {},
   "outputs": [],
   "source": [
    "plt.figure()\n",
    "plt.plot(x, C, \"r\")\n",
    "plt.xlabel(\"x\")\n",
    "plt.ylabel(\"C\")\n",
    "plt.title(\"Initial profile\")"
   ]
  },
  {
   "cell_type": "markdown",
   "id": "512c8087-49d0-47b5-a53d-d3a91c080e3c",
   "metadata": {},
   "source": [
    "Set the number of time steps in the model. Calculate a stable time step using a stability criterian. "
   ]
  },
  {
   "cell_type": "code",
   "execution_count": null,
   "id": "cca4f270-0ddf-4e3d-9df6-4384fa3e9e14",
   "metadata": {},
   "outputs": [],
   "source": [
    "nt = 5000\n",
    "dt = 0.5 * dx ** 2 / D"
   ]
  },
  {
   "cell_type": "markdown",
   "id": "bb99c4d5-20be-4e20-818c-aebd01547e5d",
   "metadata": {},
   "source": [
    "Loop over the time steps of the model, solving the diffusion equation using the FTCS scheme shown above.\n",
    "Note the use of array operations on the variable `C`.\n",
    "The boundary conditions remain fixed in each time step."
   ]
  },
  {
   "cell_type": "code",
   "execution_count": null,
   "id": "a4ce45f2-98e2-4d8e-aa1f-381fdbecb136",
   "metadata": {},
   "outputs": [],
   "source": [
    "for t in range(0, nt):\n",
    "     C[1:-1] += D * dt / dx ** 2 * (C[:-2] - 2*C[1:-1] + C[2:])"
   ]
  },
  {
   "cell_type": "code",
   "execution_count": null,
   "id": "f389d98b-251e-4e93-b14e-951ff72a3244",
   "metadata": {},
   "outputs": [],
   "source": [
    "z = list(range(5))\n",
    "z"
   ]
  },
  {
   "cell_type": "code",
   "execution_count": null,
   "id": "7097c033-1545-4983-a432-674716f7c99d",
   "metadata": {},
   "outputs": [],
   "source": [
    "z[1:-1]"
   ]
  },
  {
   "cell_type": "code",
   "execution_count": null,
   "id": "3ee57709-03ef-4ca1-90d3-dc78ddc71bf7",
   "metadata": {},
   "outputs": [],
   "source": [
    "z[:-2]"
   ]
  },
  {
   "cell_type": "code",
   "execution_count": null,
   "id": "4632841f-5ce4-4e1a-b96b-ef13903476f6",
   "metadata": {},
   "outputs": [],
   "source": [
    "z[2:]"
   ]
  },
  {
   "cell_type": "markdown",
   "id": "513f46a3-d0e0-4f67-996f-d0c2e0dc54ba",
   "metadata": {},
   "source": [
    "Plot the result"
   ]
  },
  {
   "cell_type": "code",
   "execution_count": null,
   "id": "24d5cdb8-9a9f-4359-b8b5-08c4fc119abd",
   "metadata": {},
   "outputs": [],
   "source": [
    "plt.figure()\n",
    "plt.plot(x, C, \"r\")\n",
    "plt.xlabel(\"x\")\n",
    "plt.ylabel(\"C\")\n",
    "plt.title(\"Initial profile\")"
   ]
  }
 ],
 "metadata": {
  "kernelspec": {
   "display_name": "Ivy",
   "language": "python",
   "name": "ivy"
  },
  "language_info": {
   "codemirror_mode": {
    "name": "ipython",
    "version": 3
   },
   "file_extension": ".py",
   "mimetype": "text/x-python",
   "name": "python",
   "nbconvert_exporter": "python",
   "pygments_lexer": "ipython3",
   "version": "3.13.3"
  }
 },
 "nbformat": 4,
 "nbformat_minor": 5
}
